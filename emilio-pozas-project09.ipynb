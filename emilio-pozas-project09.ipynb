{
 "cells": [
  {
   "cell_type": "markdown",
   "id": "be02a957-7133-4d02-818e-fedeb3cecb05",
   "metadata": {},
   "source": [
    "# Project 09 -- Emilio Pozas"
   ]
  },
  {
   "cell_type": "markdown",
   "id": "a1228853-dd19-4ab2-89e0-0394d7d72de3",
   "metadata": {},
   "source": [
    "**TA Help:** \n",
    "    \n",
    "**Collaboration:**"
   ]
  },
  {
   "cell_type": "markdown",
   "id": "6180e742-8e39-4698-98ff-5b00c8cf8ea0",
   "metadata": {},
   "source": [
    "## Question 1"
   ]
  },
  {
   "cell_type": "code",
   "execution_count": 1,
   "id": "49445606-d363-41b4-b479-e319a9a84c01",
   "metadata": {},
   "outputs": [],
   "source": [
    "import pandas as pd"
   ]
  },
  {
   "cell_type": "code",
   "execution_count": 2,
   "id": "3d33236d-c0b7-4e5d-a444-e0ec46fc38bd",
   "metadata": {},
   "outputs": [],
   "source": [
    "myDF = pd.read_csv('/anvil/projects/tdm/data/whin/weather.csv')"
   ]
  },
  {
   "cell_type": "code",
   "execution_count": 3,
   "id": "debd9249-23d4-4938-b866-fcc95ec9e7b4",
   "metadata": {},
   "outputs": [],
   "source": [
    "pd.set_option('display.max_columns', None)"
   ]
  },
  {
   "cell_type": "code",
   "execution_count": 4,
   "id": "6f70c1c3-18f6-4b9f-994a-534d40f94cf7",
   "metadata": {},
   "outputs": [
    {
     "data": {
      "text/html": [
       "<div>\n",
       "<style scoped>\n",
       "    .dataframe tbody tr th:only-of-type {\n",
       "        vertical-align: middle;\n",
       "    }\n",
       "\n",
       "    .dataframe tbody tr th {\n",
       "        vertical-align: top;\n",
       "    }\n",
       "\n",
       "    .dataframe thead th {\n",
       "        text-align: right;\n",
       "    }\n",
       "</style>\n",
       "<table border=\"1\" class=\"dataframe\">\n",
       "  <thead>\n",
       "    <tr style=\"text-align: right;\">\n",
       "      <th></th>\n",
       "      <th>station_id</th>\n",
       "      <th>latitude</th>\n",
       "      <th>longitude</th>\n",
       "      <th>name</th>\n",
       "      <th>observation_time</th>\n",
       "      <th>temperature</th>\n",
       "      <th>temperature_high</th>\n",
       "      <th>temperature_low</th>\n",
       "      <th>humidity</th>\n",
       "      <th>solar_radiation</th>\n",
       "      <th>solar_radiation_high</th>\n",
       "      <th>rain</th>\n",
       "      <th>rain_inches_last_hour</th>\n",
       "      <th>wind_speed_mph</th>\n",
       "      <th>wind_direction_degrees</th>\n",
       "      <th>wind_gust_speed_mph</th>\n",
       "      <th>wind_gust_direction_degrees</th>\n",
       "      <th>pressure</th>\n",
       "      <th>soil_temp_1</th>\n",
       "      <th>soil_temp_2</th>\n",
       "      <th>soil_temp_3</th>\n",
       "      <th>soil_temp_4</th>\n",
       "      <th>soil_moist_1</th>\n",
       "      <th>soil_moist_2</th>\n",
       "      <th>soil_moist_3</th>\n",
       "      <th>soil_moist_4</th>\n",
       "    </tr>\n",
       "  </thead>\n",
       "  <tbody>\n",
       "    <tr>\n",
       "      <th>0</th>\n",
       "      <td>1</td>\n",
       "      <td>40.93894</td>\n",
       "      <td>-86.47418</td>\n",
       "      <td>WHIN001-PULA001</td>\n",
       "      <td>2019-07-10T04:00:00Z</td>\n",
       "      <td>70.0</td>\n",
       "      <td>71.0</td>\n",
       "      <td>70.0</td>\n",
       "      <td>83.0</td>\n",
       "      <td>NaN</td>\n",
       "      <td>NaN</td>\n",
       "      <td>0.0</td>\n",
       "      <td>0.0</td>\n",
       "      <td>0.0</td>\n",
       "      <td>NaN</td>\n",
       "      <td>3.0</td>\n",
       "      <td>247.5</td>\n",
       "      <td>30.05</td>\n",
       "      <td>77.0</td>\n",
       "      <td>78.0</td>\n",
       "      <td>76.0</td>\n",
       "      <td>74.0</td>\n",
       "      <td>24.0</td>\n",
       "      <td>24.0</td>\n",
       "      <td>10.0</td>\n",
       "      <td>9.0</td>\n",
       "    </tr>\n",
       "    <tr>\n",
       "      <th>1</th>\n",
       "      <td>1</td>\n",
       "      <td>40.93894</td>\n",
       "      <td>-86.47418</td>\n",
       "      <td>WHIN001-PULA001</td>\n",
       "      <td>2019-07-10T04:15:00Z</td>\n",
       "      <td>69.0</td>\n",
       "      <td>70.0</td>\n",
       "      <td>69.0</td>\n",
       "      <td>84.0</td>\n",
       "      <td>NaN</td>\n",
       "      <td>NaN</td>\n",
       "      <td>0.0</td>\n",
       "      <td>0.0</td>\n",
       "      <td>1.0</td>\n",
       "      <td>247.5</td>\n",
       "      <td>3.0</td>\n",
       "      <td>247.5</td>\n",
       "      <td>30.04</td>\n",
       "      <td>76.0</td>\n",
       "      <td>78.0</td>\n",
       "      <td>76.0</td>\n",
       "      <td>74.0</td>\n",
       "      <td>24.0</td>\n",
       "      <td>25.0</td>\n",
       "      <td>10.0</td>\n",
       "      <td>9.0</td>\n",
       "    </tr>\n",
       "    <tr>\n",
       "      <th>2</th>\n",
       "      <td>1</td>\n",
       "      <td>40.93894</td>\n",
       "      <td>-86.47418</td>\n",
       "      <td>WHIN001-PULA001</td>\n",
       "      <td>2019-07-11T04:00:00Z</td>\n",
       "      <td>76.0</td>\n",
       "      <td>77.0</td>\n",
       "      <td>76.0</td>\n",
       "      <td>76.0</td>\n",
       "      <td>NaN</td>\n",
       "      <td>NaN</td>\n",
       "      <td>0.0</td>\n",
       "      <td>0.0</td>\n",
       "      <td>2.0</td>\n",
       "      <td>202.5</td>\n",
       "      <td>4.0</td>\n",
       "      <td>202.5</td>\n",
       "      <td>29.89</td>\n",
       "      <td>80.0</td>\n",
       "      <td>80.0</td>\n",
       "      <td>78.0</td>\n",
       "      <td>75.0</td>\n",
       "      <td>31.0</td>\n",
       "      <td>30.0</td>\n",
       "      <td>12.0</td>\n",
       "      <td>10.0</td>\n",
       "    </tr>\n",
       "    <tr>\n",
       "      <th>3</th>\n",
       "      <td>1</td>\n",
       "      <td>40.93894</td>\n",
       "      <td>-86.47418</td>\n",
       "      <td>WHIN001-PULA001</td>\n",
       "      <td>2019-07-11T04:15:00Z</td>\n",
       "      <td>76.0</td>\n",
       "      <td>76.0</td>\n",
       "      <td>76.0</td>\n",
       "      <td>77.0</td>\n",
       "      <td>NaN</td>\n",
       "      <td>NaN</td>\n",
       "      <td>0.0</td>\n",
       "      <td>0.0</td>\n",
       "      <td>2.0</td>\n",
       "      <td>202.5</td>\n",
       "      <td>4.0</td>\n",
       "      <td>202.5</td>\n",
       "      <td>29.88</td>\n",
       "      <td>80.0</td>\n",
       "      <td>80.0</td>\n",
       "      <td>78.0</td>\n",
       "      <td>75.0</td>\n",
       "      <td>31.0</td>\n",
       "      <td>31.0</td>\n",
       "      <td>12.0</td>\n",
       "      <td>10.0</td>\n",
       "    </tr>\n",
       "    <tr>\n",
       "      <th>4</th>\n",
       "      <td>1</td>\n",
       "      <td>40.93894</td>\n",
       "      <td>-86.47418</td>\n",
       "      <td>WHIN001-PULA001</td>\n",
       "      <td>2019-07-11T04:30:00Z</td>\n",
       "      <td>76.0</td>\n",
       "      <td>76.0</td>\n",
       "      <td>76.0</td>\n",
       "      <td>77.0</td>\n",
       "      <td>NaN</td>\n",
       "      <td>NaN</td>\n",
       "      <td>0.0</td>\n",
       "      <td>0.0</td>\n",
       "      <td>2.0</td>\n",
       "      <td>225.0</td>\n",
       "      <td>4.0</td>\n",
       "      <td>202.5</td>\n",
       "      <td>29.88</td>\n",
       "      <td>80.0</td>\n",
       "      <td>80.0</td>\n",
       "      <td>78.0</td>\n",
       "      <td>75.0</td>\n",
       "      <td>32.0</td>\n",
       "      <td>31.0</td>\n",
       "      <td>12.0</td>\n",
       "      <td>10.0</td>\n",
       "    </tr>\n",
       "  </tbody>\n",
       "</table>\n",
       "</div>"
      ],
      "text/plain": [
       "   station_id  latitude  longitude             name      observation_time  \\\n",
       "0           1  40.93894  -86.47418  WHIN001-PULA001  2019-07-10T04:00:00Z   \n",
       "1           1  40.93894  -86.47418  WHIN001-PULA001  2019-07-10T04:15:00Z   \n",
       "2           1  40.93894  -86.47418  WHIN001-PULA001  2019-07-11T04:00:00Z   \n",
       "3           1  40.93894  -86.47418  WHIN001-PULA001  2019-07-11T04:15:00Z   \n",
       "4           1  40.93894  -86.47418  WHIN001-PULA001  2019-07-11T04:30:00Z   \n",
       "\n",
       "   temperature  temperature_high  temperature_low  humidity  solar_radiation  \\\n",
       "0         70.0              71.0             70.0      83.0              NaN   \n",
       "1         69.0              70.0             69.0      84.0              NaN   \n",
       "2         76.0              77.0             76.0      76.0              NaN   \n",
       "3         76.0              76.0             76.0      77.0              NaN   \n",
       "4         76.0              76.0             76.0      77.0              NaN   \n",
       "\n",
       "   solar_radiation_high  rain  rain_inches_last_hour  wind_speed_mph  \\\n",
       "0                   NaN   0.0                    0.0             0.0   \n",
       "1                   NaN   0.0                    0.0             1.0   \n",
       "2                   NaN   0.0                    0.0             2.0   \n",
       "3                   NaN   0.0                    0.0             2.0   \n",
       "4                   NaN   0.0                    0.0             2.0   \n",
       "\n",
       "   wind_direction_degrees  wind_gust_speed_mph  wind_gust_direction_degrees  \\\n",
       "0                     NaN                  3.0                        247.5   \n",
       "1                   247.5                  3.0                        247.5   \n",
       "2                   202.5                  4.0                        202.5   \n",
       "3                   202.5                  4.0                        202.5   \n",
       "4                   225.0                  4.0                        202.5   \n",
       "\n",
       "   pressure  soil_temp_1  soil_temp_2  soil_temp_3  soil_temp_4  soil_moist_1  \\\n",
       "0     30.05         77.0         78.0         76.0         74.0          24.0   \n",
       "1     30.04         76.0         78.0         76.0         74.0          24.0   \n",
       "2     29.89         80.0         80.0         78.0         75.0          31.0   \n",
       "3     29.88         80.0         80.0         78.0         75.0          31.0   \n",
       "4     29.88         80.0         80.0         78.0         75.0          32.0   \n",
       "\n",
       "   soil_moist_2  soil_moist_3  soil_moist_4  \n",
       "0          24.0          10.0           9.0  \n",
       "1          25.0          10.0           9.0  \n",
       "2          30.0          12.0          10.0  \n",
       "3          31.0          12.0          10.0  \n",
       "4          31.0          12.0          10.0  "
      ]
     },
     "execution_count": 4,
     "metadata": {},
     "output_type": "execute_result"
    }
   ],
   "source": [
    "myDF.head()"
   ]
  },
  {
   "cell_type": "code",
   "execution_count": 5,
   "id": "787d6565-d405-45ee-bf30-6994e012fb12",
   "metadata": {},
   "outputs": [
    {
     "data": {
      "text/plain": [
       "(1000000, 26)"
      ]
     },
     "execution_count": 5,
     "metadata": {},
     "output_type": "execute_result"
    }
   ],
   "source": [
    "myDF.shape"
   ]
  },
  {
   "cell_type": "code",
   "execution_count": 6,
   "id": "1dcf979a-d2cc-46d7-9363-a5ef10daac0b",
   "metadata": {},
   "outputs": [
    {
     "data": {
      "text/html": [
       "<div>\n",
       "<style scoped>\n",
       "    .dataframe tbody tr th:only-of-type {\n",
       "        vertical-align: middle;\n",
       "    }\n",
       "\n",
       "    .dataframe tbody tr th {\n",
       "        vertical-align: top;\n",
       "    }\n",
       "\n",
       "    .dataframe thead th {\n",
       "        text-align: right;\n",
       "    }\n",
       "</style>\n",
       "<table border=\"1\" class=\"dataframe\">\n",
       "  <thead>\n",
       "    <tr style=\"text-align: right;\">\n",
       "      <th></th>\n",
       "      <th>station_id</th>\n",
       "      <th>latitude</th>\n",
       "      <th>longitude</th>\n",
       "      <th>temperature</th>\n",
       "      <th>temperature_high</th>\n",
       "      <th>temperature_low</th>\n",
       "      <th>humidity</th>\n",
       "      <th>solar_radiation</th>\n",
       "      <th>solar_radiation_high</th>\n",
       "      <th>rain</th>\n",
       "      <th>rain_inches_last_hour</th>\n",
       "      <th>wind_speed_mph</th>\n",
       "      <th>wind_direction_degrees</th>\n",
       "      <th>wind_gust_speed_mph</th>\n",
       "      <th>wind_gust_direction_degrees</th>\n",
       "      <th>pressure</th>\n",
       "      <th>soil_temp_1</th>\n",
       "      <th>soil_temp_2</th>\n",
       "      <th>soil_temp_3</th>\n",
       "      <th>soil_temp_4</th>\n",
       "      <th>soil_moist_1</th>\n",
       "      <th>soil_moist_2</th>\n",
       "      <th>soil_moist_3</th>\n",
       "      <th>soil_moist_4</th>\n",
       "    </tr>\n",
       "  </thead>\n",
       "  <tbody>\n",
       "    <tr>\n",
       "      <th>count</th>\n",
       "      <td>1000000.000000</td>\n",
       "      <td>1000000.000000</td>\n",
       "      <td>1000000.000000</td>\n",
       "      <td>995824.000000</td>\n",
       "      <td>995877.000000</td>\n",
       "      <td>995877.000000</td>\n",
       "      <td>995838.000000</td>\n",
       "      <td>951896.000000</td>\n",
       "      <td>987172.000000</td>\n",
       "      <td>1000000.000000</td>\n",
       "      <td>1000000.000000</td>\n",
       "      <td>995968.000000</td>\n",
       "      <td>904455.000000</td>\n",
       "      <td>1000000.000000</td>\n",
       "      <td>905784.000000</td>\n",
       "      <td>1000000.000000</td>\n",
       "      <td>885957.000000</td>\n",
       "      <td>885959.000000</td>\n",
       "      <td>885963.000000</td>\n",
       "      <td>885964.000000</td>\n",
       "      <td>885876.000000</td>\n",
       "      <td>885830.000000</td>\n",
       "      <td>885826.000000</td>\n",
       "      <td>885850.000000</td>\n",
       "    </tr>\n",
       "    <tr>\n",
       "      <th>mean</th>\n",
       "      <td>136.811227</td>\n",
       "      <td>40.575033</td>\n",
       "      <td>-86.819166</td>\n",
       "      <td>54.332357</td>\n",
       "      <td>54.641001</td>\n",
       "      <td>54.022909</td>\n",
       "      <td>75.550037</td>\n",
       "      <td>180.700083</td>\n",
       "      <td>1379.200976</td>\n",
       "      <td>0.089229</td>\n",
       "      <td>1.192975</td>\n",
       "      <td>5.914523</td>\n",
       "      <td>184.143938</td>\n",
       "      <td>10.203489</td>\n",
       "      <td>183.210393</td>\n",
       "      <td>29.475522</td>\n",
       "      <td>55.532219</td>\n",
       "      <td>56.951872</td>\n",
       "      <td>55.318035</td>\n",
       "      <td>55.059858</td>\n",
       "      <td>37.796737</td>\n",
       "      <td>33.530907</td>\n",
       "      <td>30.350393</td>\n",
       "      <td>33.378197</td>\n",
       "    </tr>\n",
       "    <tr>\n",
       "      <th>std</th>\n",
       "      <td>49.921502</td>\n",
       "      <td>0.272393</td>\n",
       "      <td>0.393169</td>\n",
       "      <td>20.018870</td>\n",
       "      <td>20.052581</td>\n",
       "      <td>19.987283</td>\n",
       "      <td>16.484402</td>\n",
       "      <td>272.963957</td>\n",
       "      <td>6060.627577</td>\n",
       "      <td>1.018177</td>\n",
       "      <td>46.882968</td>\n",
       "      <td>4.867768</td>\n",
       "      <td>97.478143</td>\n",
       "      <td>7.238774</td>\n",
       "      <td>98.011759</td>\n",
       "      <td>0.387023</td>\n",
       "      <td>16.508854</td>\n",
       "      <td>18.499756</td>\n",
       "      <td>14.423309</td>\n",
       "      <td>13.405032</td>\n",
       "      <td>51.850741</td>\n",
       "      <td>51.576801</td>\n",
       "      <td>49.986007</td>\n",
       "      <td>55.127205</td>\n",
       "    </tr>\n",
       "    <tr>\n",
       "      <th>min</th>\n",
       "      <td>1.000000</td>\n",
       "      <td>40.104830</td>\n",
       "      <td>-87.510340</td>\n",
       "      <td>-90.000000</td>\n",
       "      <td>-90.000000</td>\n",
       "      <td>-90.000000</td>\n",
       "      <td>1.000000</td>\n",
       "      <td>0.000000</td>\n",
       "      <td>0.000000</td>\n",
       "      <td>0.000000</td>\n",
       "      <td>0.000000</td>\n",
       "      <td>0.000000</td>\n",
       "      <td>0.000000</td>\n",
       "      <td>0.000000</td>\n",
       "      <td>0.000000</td>\n",
       "      <td>27.754000</td>\n",
       "      <td>25.000000</td>\n",
       "      <td>28.000000</td>\n",
       "      <td>30.000000</td>\n",
       "      <td>32.000000</td>\n",
       "      <td>0.000000</td>\n",
       "      <td>0.000000</td>\n",
       "      <td>0.000000</td>\n",
       "      <td>0.000000</td>\n",
       "    </tr>\n",
       "    <tr>\n",
       "      <th>25%</th>\n",
       "      <td>144.000000</td>\n",
       "      <td>40.384007</td>\n",
       "      <td>-87.148604</td>\n",
       "      <td>39.000000</td>\n",
       "      <td>39.000000</td>\n",
       "      <td>39.000000</td>\n",
       "      <td>66.000000</td>\n",
       "      <td>0.000000</td>\n",
       "      <td>0.000000</td>\n",
       "      <td>0.000000</td>\n",
       "      <td>0.000000</td>\n",
       "      <td>2.000000</td>\n",
       "      <td>90.000000</td>\n",
       "      <td>4.000000</td>\n",
       "      <td>90.000000</td>\n",
       "      <td>29.213000</td>\n",
       "      <td>40.000000</td>\n",
       "      <td>42.000000</td>\n",
       "      <td>42.000000</td>\n",
       "      <td>43.000000</td>\n",
       "      <td>5.000000</td>\n",
       "      <td>4.000000</td>\n",
       "      <td>3.000000</td>\n",
       "      <td>3.000000</td>\n",
       "    </tr>\n",
       "    <tr>\n",
       "      <th>50%</th>\n",
       "      <td>153.000000</td>\n",
       "      <td>40.537220</td>\n",
       "      <td>-86.737141</td>\n",
       "      <td>56.000000</td>\n",
       "      <td>57.000000</td>\n",
       "      <td>56.000000</td>\n",
       "      <td>80.000000</td>\n",
       "      <td>11.000000</td>\n",
       "      <td>26.000000</td>\n",
       "      <td>0.000000</td>\n",
       "      <td>0.000000</td>\n",
       "      <td>5.000000</td>\n",
       "      <td>202.500000</td>\n",
       "      <td>9.000000</td>\n",
       "      <td>202.500000</td>\n",
       "      <td>29.372000</td>\n",
       "      <td>55.000000</td>\n",
       "      <td>56.000000</td>\n",
       "      <td>55.000000</td>\n",
       "      <td>54.000000</td>\n",
       "      <td>15.000000</td>\n",
       "      <td>10.000000</td>\n",
       "      <td>8.000000</td>\n",
       "      <td>8.000000</td>\n",
       "    </tr>\n",
       "    <tr>\n",
       "      <th>75%</th>\n",
       "      <td>163.000000</td>\n",
       "      <td>40.844360</td>\n",
       "      <td>-86.474180</td>\n",
       "      <td>70.000000</td>\n",
       "      <td>71.000000</td>\n",
       "      <td>70.000000</td>\n",
       "      <td>89.000000</td>\n",
       "      <td>288.000000</td>\n",
       "      <td>415.000000</td>\n",
       "      <td>0.000000</td>\n",
       "      <td>0.000000</td>\n",
       "      <td>9.000000</td>\n",
       "      <td>270.000000</td>\n",
       "      <td>14.000000</td>\n",
       "      <td>270.000000</td>\n",
       "      <td>29.644000</td>\n",
       "      <td>70.000000</td>\n",
       "      <td>71.000000</td>\n",
       "      <td>69.000000</td>\n",
       "      <td>68.000000</td>\n",
       "      <td>45.000000</td>\n",
       "      <td>34.000000</td>\n",
       "      <td>28.000000</td>\n",
       "      <td>31.000000</td>\n",
       "    </tr>\n",
       "    <tr>\n",
       "      <th>max</th>\n",
       "      <td>179.000000</td>\n",
       "      <td>41.018650</td>\n",
       "      <td>-86.181730</td>\n",
       "      <td>96.000000</td>\n",
       "      <td>96.000000</td>\n",
       "      <td>96.000000</td>\n",
       "      <td>100.000000</td>\n",
       "      <td>1338.000000</td>\n",
       "      <td>32767.000000</td>\n",
       "      <td>101.000000</td>\n",
       "      <td>8229.000000</td>\n",
       "      <td>37.000000</td>\n",
       "      <td>337.500000</td>\n",
       "      <td>60.000000</td>\n",
       "      <td>337.500000</td>\n",
       "      <td>30.887000</td>\n",
       "      <td>133.000000</td>\n",
       "      <td>164.000000</td>\n",
       "      <td>120.000000</td>\n",
       "      <td>123.000000</td>\n",
       "      <td>200.000000</td>\n",
       "      <td>200.000000</td>\n",
       "      <td>200.000000</td>\n",
       "      <td>200.000000</td>\n",
       "    </tr>\n",
       "  </tbody>\n",
       "</table>\n",
       "</div>"
      ],
      "text/plain": [
       "           station_id        latitude       longitude    temperature  \\\n",
       "count  1000000.000000  1000000.000000  1000000.000000  995824.000000   \n",
       "mean       136.811227       40.575033      -86.819166      54.332357   \n",
       "std         49.921502        0.272393        0.393169      20.018870   \n",
       "min          1.000000       40.104830      -87.510340     -90.000000   \n",
       "25%        144.000000       40.384007      -87.148604      39.000000   \n",
       "50%        153.000000       40.537220      -86.737141      56.000000   \n",
       "75%        163.000000       40.844360      -86.474180      70.000000   \n",
       "max        179.000000       41.018650      -86.181730      96.000000   \n",
       "\n",
       "       temperature_high  temperature_low       humidity  solar_radiation  \\\n",
       "count     995877.000000    995877.000000  995838.000000    951896.000000   \n",
       "mean          54.641001        54.022909      75.550037       180.700083   \n",
       "std           20.052581        19.987283      16.484402       272.963957   \n",
       "min          -90.000000       -90.000000       1.000000         0.000000   \n",
       "25%           39.000000        39.000000      66.000000         0.000000   \n",
       "50%           57.000000        56.000000      80.000000        11.000000   \n",
       "75%           71.000000        70.000000      89.000000       288.000000   \n",
       "max           96.000000        96.000000     100.000000      1338.000000   \n",
       "\n",
       "       solar_radiation_high            rain  rain_inches_last_hour  \\\n",
       "count         987172.000000  1000000.000000         1000000.000000   \n",
       "mean            1379.200976        0.089229               1.192975   \n",
       "std             6060.627577        1.018177              46.882968   \n",
       "min                0.000000        0.000000               0.000000   \n",
       "25%                0.000000        0.000000               0.000000   \n",
       "50%               26.000000        0.000000               0.000000   \n",
       "75%              415.000000        0.000000               0.000000   \n",
       "max            32767.000000      101.000000            8229.000000   \n",
       "\n",
       "       wind_speed_mph  wind_direction_degrees  wind_gust_speed_mph  \\\n",
       "count   995968.000000           904455.000000       1000000.000000   \n",
       "mean         5.914523              184.143938            10.203489   \n",
       "std          4.867768               97.478143             7.238774   \n",
       "min          0.000000                0.000000             0.000000   \n",
       "25%          2.000000               90.000000             4.000000   \n",
       "50%          5.000000              202.500000             9.000000   \n",
       "75%          9.000000              270.000000            14.000000   \n",
       "max         37.000000              337.500000            60.000000   \n",
       "\n",
       "       wind_gust_direction_degrees        pressure    soil_temp_1  \\\n",
       "count                905784.000000  1000000.000000  885957.000000   \n",
       "mean                    183.210393       29.475522      55.532219   \n",
       "std                      98.011759        0.387023      16.508854   \n",
       "min                       0.000000       27.754000      25.000000   \n",
       "25%                      90.000000       29.213000      40.000000   \n",
       "50%                     202.500000       29.372000      55.000000   \n",
       "75%                     270.000000       29.644000      70.000000   \n",
       "max                     337.500000       30.887000     133.000000   \n",
       "\n",
       "         soil_temp_2    soil_temp_3    soil_temp_4   soil_moist_1  \\\n",
       "count  885959.000000  885963.000000  885964.000000  885876.000000   \n",
       "mean       56.951872      55.318035      55.059858      37.796737   \n",
       "std        18.499756      14.423309      13.405032      51.850741   \n",
       "min        28.000000      30.000000      32.000000       0.000000   \n",
       "25%        42.000000      42.000000      43.000000       5.000000   \n",
       "50%        56.000000      55.000000      54.000000      15.000000   \n",
       "75%        71.000000      69.000000      68.000000      45.000000   \n",
       "max       164.000000     120.000000     123.000000     200.000000   \n",
       "\n",
       "        soil_moist_2   soil_moist_3   soil_moist_4  \n",
       "count  885830.000000  885826.000000  885850.000000  \n",
       "mean       33.530907      30.350393      33.378197  \n",
       "std        51.576801      49.986007      55.127205  \n",
       "min         0.000000       0.000000       0.000000  \n",
       "25%         4.000000       3.000000       3.000000  \n",
       "50%        10.000000       8.000000       8.000000  \n",
       "75%        34.000000      28.000000      31.000000  \n",
       "max       200.000000     200.000000     200.000000  "
      ]
     },
     "execution_count": 6,
     "metadata": {},
     "output_type": "execute_result"
    }
   ],
   "source": [
    "myDF.describe()"
   ]
  },
  {
   "cell_type": "code",
   "execution_count": 8,
   "id": "a1fe6430-d393-4622-b265-748f32646cd1",
   "metadata": {},
   "outputs": [
    {
     "data": {
      "text/plain": [
       "station_id\n",
       "1      71631\n",
       "20     56917\n",
       "147    45600\n",
       "143    45593\n",
       "146    45579\n",
       "145    45509\n",
       "144    45495\n",
       "142    45395\n",
       "149    44060\n",
       "159    43563\n",
       "153    43559\n",
       "157    43534\n",
       "155    42993\n",
       "160    42810\n",
       "156    42807\n",
       "151    42806\n",
       "164    38791\n",
       "163    37908\n",
       "166    30242\n",
       "167    27463\n",
       "168    18581\n",
       "169    14905\n",
       "172    14812\n",
       "179    14772\n",
       "176    14402\n",
       "173    13648\n",
       "175    13314\n",
       "171    13311\n",
       "Name: count, dtype: int64"
      ]
     },
     "execution_count": 8,
     "metadata": {},
     "output_type": "execute_result"
    }
   ],
   "source": [
    "myDF.value_counts('station_id')"
   ]
  },
  {
   "cell_type": "code",
   "execution_count": 15,
   "id": "e9a53dbc-93f8-45f0-90ff-629825fe5bac",
   "metadata": {},
   "outputs": [
    {
     "data": {
      "text/plain": [
       "station_id\n",
       "1      71631\n",
       "20     56917\n",
       "142    45395\n",
       "143    45593\n",
       "144    45495\n",
       "145    45509\n",
       "146    45579\n",
       "147    45600\n",
       "149    44060\n",
       "151    42806\n",
       "153    43559\n",
       "155    42993\n",
       "156    42807\n",
       "157    43534\n",
       "159    43563\n",
       "160    42810\n",
       "163    37908\n",
       "164    38791\n",
       "166    30242\n",
       "167    27463\n",
       "168    18581\n",
       "169    14905\n",
       "171    13311\n",
       "172    14812\n",
       "173    13648\n",
       "175    13314\n",
       "176    14402\n",
       "179    14772\n",
       "dtype: int64"
      ]
     },
     "execution_count": 15,
     "metadata": {},
     "output_type": "execute_result"
    }
   ],
   "source": [
    "myDF.groupby('station_id').size()"
   ]
  },
  {
   "cell_type": "markdown",
   "id": "b456e57c-4a12-464b-999a-ef2df5af80c1",
   "metadata": {},
   "source": [
    "Both of these methods give you the same values. The difference comes in the order. Value_counts gives you values ordered by station_id and the groupby gives you the order based in counts."
   ]
  },
  {
   "cell_type": "markdown",
   "id": "fc601975-35ed-4680-a4e1-0273ee3cc047",
   "metadata": {},
   "source": [
    "## Question 2"
   ]
  },
  {
   "cell_type": "code",
   "execution_count": 19,
   "id": "a16336a1-1ef0-41e8-bc7c-49387db27497",
   "metadata": {},
   "outputs": [
    {
     "data": {
      "text/plain": [
       "station_id                          0\n",
       "latitude                            0\n",
       "longitude                           0\n",
       "name                                0\n",
       "observation_time                    0\n",
       "temperature                      4176\n",
       "temperature_high                 4123\n",
       "temperature_low                  4123\n",
       "humidity                         4162\n",
       "solar_radiation                 48104\n",
       "solar_radiation_high            12828\n",
       "rain                                0\n",
       "rain_inches_last_hour               0\n",
       "wind_speed_mph                   4032\n",
       "wind_direction_degrees          95545\n",
       "wind_gust_speed_mph                 0\n",
       "wind_gust_direction_degrees     94216\n",
       "pressure                            0\n",
       "soil_temp_1                    114043\n",
       "soil_temp_2                    114041\n",
       "soil_temp_3                    114037\n",
       "soil_temp_4                    114036\n",
       "soil_moist_1                   114124\n",
       "soil_moist_2                   114170\n",
       "soil_moist_3                   114174\n",
       "soil_moist_4                   114150\n",
       "dtype: int64"
      ]
     },
     "execution_count": 19,
     "metadata": {},
     "output_type": "execute_result"
    }
   ],
   "source": [
    "myDF.isnull().sum()"
   ]
  },
  {
   "cell_type": "code",
   "execution_count": 20,
   "id": "3f68561f-8851-49c9-98b3-cb7a0be46d22",
   "metadata": {},
   "outputs": [
    {
     "data": {
      "text/plain": [
       "1184084"
      ]
     },
     "execution_count": 20,
     "metadata": {},
     "output_type": "execute_result"
    }
   ],
   "source": [
    "myDF.isnull().sum().sum()"
   ]
  },
  {
   "cell_type": "code",
   "execution_count": 23,
   "id": "00967ee8-da73-4cbf-ab73-22aaf8e69ec1",
   "metadata": {},
   "outputs": [],
   "source": [
    "myDF_cleaned = myDF.dropna()"
   ]
  },
  {
   "cell_type": "code",
   "execution_count": 24,
   "id": "ccf82e88-6869-4b50-a7a0-37791b4df3d0",
   "metadata": {},
   "outputs": [
    {
     "data": {
      "text/plain": [
       "station_id                     0\n",
       "latitude                       0\n",
       "longitude                      0\n",
       "name                           0\n",
       "observation_time               0\n",
       "temperature                    0\n",
       "temperature_high               0\n",
       "temperature_low                0\n",
       "humidity                       0\n",
       "solar_radiation                0\n",
       "solar_radiation_high           0\n",
       "rain                           0\n",
       "rain_inches_last_hour          0\n",
       "wind_speed_mph                 0\n",
       "wind_direction_degrees         0\n",
       "wind_gust_speed_mph            0\n",
       "wind_gust_direction_degrees    0\n",
       "pressure                       0\n",
       "soil_temp_1                    0\n",
       "soil_temp_2                    0\n",
       "soil_temp_3                    0\n",
       "soil_temp_4                    0\n",
       "soil_moist_1                   0\n",
       "soil_moist_2                   0\n",
       "soil_moist_3                   0\n",
       "soil_moist_4                   0\n",
       "dtype: int64"
      ]
     },
     "execution_count": 24,
     "metadata": {},
     "output_type": "execute_result"
    }
   ],
   "source": [
    "myDF_cleaned.isnull().sum()"
   ]
  },
  {
   "cell_type": "code",
   "execution_count": 26,
   "id": "a4f24b4d-da55-4a01-bec6-680738602e57",
   "metadata": {},
   "outputs": [
    {
     "data": {
      "text/plain": [
       "(767725, 26)"
      ]
     },
     "execution_count": 26,
     "metadata": {},
     "output_type": "execute_result"
    }
   ],
   "source": [
    "myDF_cleaned.shape"
   ]
  },
  {
   "cell_type": "markdown",
   "id": "8e586edd-ff26-4ce2-8f6b-2424b26f2929",
   "metadata": {},
   "source": [
    "## Question 3"
   ]
  },
  {
   "cell_type": "code",
   "execution_count": 28,
   "id": "bbe0f40d-9655-4653-9ca8-886bdb61cb91",
   "metadata": {},
   "outputs": [],
   "source": [
    "myDFcleaned = myDF.dropna(subset=['temperature']).copy()"
   ]
  },
  {
   "cell_type": "code",
   "execution_count": 29,
   "id": "a79bfa73-f8fc-49c7-ad18-a025a5dc0819",
   "metadata": {},
   "outputs": [
    {
     "data": {
      "text/plain": [
       "(995824, 26)"
      ]
     },
     "execution_count": 29,
     "metadata": {},
     "output_type": "execute_result"
    }
   ],
   "source": [
    "myDFcleaned.shape"
   ]
  },
  {
   "cell_type": "code",
   "execution_count": 31,
   "id": "41ad3c31-b252-466d-9788-f436b37fd4cb",
   "metadata": {},
   "outputs": [],
   "source": [
    "myDFcleaned['location'] = myDFcleaned['latitude'].astype(str) + '_' + myDFcleaned['longitude'].astype(str)"
   ]
  },
  {
   "cell_type": "code",
   "execution_count": 33,
   "id": "cba8bfa3-cba0-4ea9-b94b-175187058925",
   "metadata": {},
   "outputs": [
    {
     "data": {
      "text/plain": [
       "location\n",
       "40.10483_-86.86619                    56.057495\n",
       "40.1492432088387_-86.7371410131454    61.413324\n",
       "40.16179_-87.35246                    54.052897\n",
       "40.2709571472446_-87.1486035394257    49.803342\n",
       "40.2967994865571_-87.3902853950858    57.855233\n",
       "40.30156_-87.48248                    58.889855\n",
       "40.37634_-86.59591                    54.794076\n",
       "40.38116_-86.40269                    47.765668\n",
       "40.3840069271445_-87.31664031744      59.552215\n",
       "40.38539_-87.51034                    55.115662\n",
       "40.3861140862113_-87.1012964844704    59.383360\n",
       "40.42124_-86.84642                    50.742410\n",
       "40.43134_-86.53464                    55.081819\n",
       "40.48079_-87.20682                    51.730032\n",
       "40.4869749155437_-87.4914180859923    58.971553\n",
       "40.51432_-86.45856                    55.183031\n",
       "40.53722_-86.95342                    55.070667\n",
       "40.5485_-87.12477                     54.898998\n",
       "40.58629_-87.43654                    54.676701\n",
       "40.59057_-86.39155                    55.307808\n",
       "40.70178_-86.70649                    55.482287\n",
       "40.78049_-86.89576                    54.791890\n",
       "40.84436_-86.18173                    54.942505\n",
       "40.93894_-86.47418                    49.883742\n",
       "40.9700622558594_-86.9013715815608    59.919768\n",
       "40.97061_-86.35304                    55.292530\n",
       "40.98224_-86.38542                    54.206106\n",
       "41.01865_-86.7101                     53.836086\n",
       "Name: temperature, dtype: float64"
      ]
     },
     "execution_count": 33,
     "metadata": {},
     "output_type": "execute_result"
    }
   ],
   "source": [
    "myDFcleaned.groupby('location')['temperature'].mean()"
   ]
  },
  {
   "cell_type": "markdown",
   "id": "47c6229f-35f7-400c-8366-c442baa5cf47",
   "metadata": {},
   "source": [
    "Markdown notes and sentences and analysis written here."
   ]
  },
  {
   "cell_type": "markdown",
   "id": "da22f29c-d245-4d2b-9fc1-ca14cb6087d9",
   "metadata": {},
   "source": [
    "## Question 4"
   ]
  },
  {
   "cell_type": "code",
   "execution_count": 35,
   "id": "8cffc767-d1c8-4d64-b7dc-f0d2ee8a80d1",
   "metadata": {},
   "outputs": [],
   "source": [
    "def get_location_avgTemperature (df):\n",
    "    dfclean = df.dropna(subset=['temperature']).copy()\n",
    "    dfclean['location'] = dfclean['latitude'].astype(str) + '_' + dfclean['longitude'].astype(str)\n",
    "    dfclean.groupby('location')['temperature'].mean()"
   ]
  },
  {
   "cell_type": "markdown",
   "id": "88c9cdac-3e92-498f-83fa-e089bfc44ac8",
   "metadata": {},
   "source": [
    "## Question 5"
   ]
  },
  {
   "cell_type": "code",
   "execution_count": 38,
   "id": "d370d7c9-06db-42b9-b75f-240481a5c491",
   "metadata": {},
   "outputs": [],
   "source": [
    "myDFclean = myDF.dropna(subset=['wind_gust_speed_mph']).copy()"
   ]
  },
  {
   "cell_type": "code",
   "execution_count": 39,
   "id": "ff8db49b-3cc0-4f13-acea-2af1144550f6",
   "metadata": {},
   "outputs": [],
   "source": [
    "myDFclean['location'] = myDFclean['latitude'].astype(str) + '_' + myDFclean['longitude'].astype(str)"
   ]
  },
  {
   "cell_type": "code",
   "execution_count": 42,
   "id": "c770aa73-c2db-40ac-b794-4449453a88db",
   "metadata": {},
   "outputs": [
    {
     "data": {
      "text/plain": [
       "location\n",
       "40.10483_-86.86619                    10.186783\n",
       "40.1492432088387_-86.7371410131454    10.136323\n",
       "40.16179_-87.35246                     9.026960\n",
       "40.2709571472446_-87.1486035394257     9.993939\n",
       "40.2967994865571_-87.3902853950858    11.560288\n",
       "40.30156_-87.48248                    10.146300\n",
       "40.37634_-86.59591                    10.174628\n",
       "40.38116_-86.40269                    12.850781\n",
       "40.3840069271445_-87.31664031744       6.184488\n",
       "40.38539_-87.51034                    11.075690\n",
       "40.3861140862113_-87.1012964844704     7.812415\n",
       "40.42124_-86.84642                     5.973414\n",
       "40.43134_-86.53464                    11.226047\n",
       "40.48079_-87.20682                     6.290135\n",
       "40.4869749155437_-87.4914180859923    11.720362\n",
       "40.51432_-86.45856                    10.181839\n",
       "40.53722_-86.95342                    11.794791\n",
       "40.5485_-87.12477                     10.516033\n",
       "40.58629_-87.43654                    11.681777\n",
       "40.59057_-86.39155                    10.055651\n",
       "40.70178_-86.70649                     9.843719\n",
       "40.78049_-86.89576                    10.852191\n",
       "40.84436_-86.18173                    10.285053\n",
       "40.93894_-86.47418                     9.944437\n",
       "40.9700622558594_-86.9013715815608    11.544695\n",
       "40.97061_-86.35304                    10.564448\n",
       "40.98224_-86.38542                    10.964359\n",
       "41.01865_-86.7101                      8.975526\n",
       "Name: wind_gust_speed_mph, dtype: float64"
      ]
     },
     "execution_count": 42,
     "metadata": {},
     "output_type": "execute_result"
    }
   ],
   "source": [
    "myDFclean.groupby('location')['wind_gust_speed_mph'].mean()"
   ]
  },
  {
   "cell_type": "code",
   "execution_count": 43,
   "id": "5c75381c-18c0-4a00-a6d7-0902caf46607",
   "metadata": {},
   "outputs": [],
   "source": [
    "def get_location_avgWindGustSpeedMPH (df):\n",
    "    dfclean = df.dropna(subset=['wind_gust_speed_mph']).copy()\n",
    "    dfclean['location'] = dfclean['latitude'].astype(str) + '_' + dfclean['longitude'].astype(str)\n",
    "    dfclean.groupby('location')['wind_gust_speed_mph'].mean()"
   ]
  },
  {
   "cell_type": "markdown",
   "id": "f76442d6-d02e-4f26-b9d6-c3183e1d6929",
   "metadata": {},
   "source": [
    "## Pledge\n",
    "\n",
    "By submitting this work I hereby pledge that this is my own, personal work. I've acknowledged in the designated place at the top of this file all sources that I used to complete said work, including but not limited to: online resources, books, and electronic communications. I've noted all collaboration with fellow students and/or TA's. I did not copy or plagiarize another's work.\n",
    "\n",
    "> As a Boilermaker pursuing academic excellence, I pledge to be honest and true in all that I do. Accountable together – We are Purdue."
   ]
  }
 ],
 "metadata": {
  "kernelspec": {
   "display_name": "seminar",
   "language": "python",
   "name": "seminar"
  },
  "language_info": {
   "codemirror_mode": {
    "name": "ipython",
    "version": 3
   },
   "file_extension": ".py",
   "mimetype": "text/x-python",
   "name": "python",
   "nbconvert_exporter": "python",
   "pygments_lexer": "ipython3",
   "version": "3.11.5"
  }
 },
 "nbformat": 4,
 "nbformat_minor": 5
}
